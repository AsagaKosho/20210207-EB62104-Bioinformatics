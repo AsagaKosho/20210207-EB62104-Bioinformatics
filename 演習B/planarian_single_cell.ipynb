{
 "cells": [
  {
   "cell_type": "markdown",
   "id": "typical-origin",
   "metadata": {},
   "source": [
    "## B01: 必要なパッケージを読み込む"
   ]
  },
  {
   "cell_type": "code",
   "execution_count": null,
   "id": "victorian-winning",
   "metadata": {
    "scrolled": false
   },
   "outputs": [],
   "source": [
    "library(Seurat)\n",
    "library(tidyverse)"
   ]
  },
  {
   "cell_type": "markdown",
   "id": "threaded-audio",
   "metadata": {},
   "source": [
    "## B02: シードの固定"
   ]
  },
  {
   "cell_type": "code",
   "execution_count": null,
   "id": "brilliant-hydrogen",
   "metadata": {
    "scrolled": true
   },
   "outputs": [],
   "source": [
    "set.seed(1234)"
   ]
  },
  {
   "cell_type": "markdown",
   "id": "proper-excerpt",
   "metadata": {},
   "source": [
    "## B03: データ（遺伝子発現量行列）を読み込む"
   ]
  },
  {
   "cell_type": "code",
   "execution_count": null,
   "id": "norman-retreat",
   "metadata": {
    "scrolled": true
   },
   "outputs": [],
   "source": [
    "# （ちょっと時間がかかります）\n",
    "df_counts <- read_tsv(\"data/GSM3173562_Lakshmipuram_NCBI_processeddata.txt\", col_names=TRUE)"
   ]
  },
  {
   "cell_type": "markdown",
   "id": "labeled-gasoline",
   "metadata": {},
   "source": [
    "## B04: 読み込んだデータの形を確認する"
   ]
  },
  {
   "cell_type": "code",
   "execution_count": null,
   "id": "directed-macro",
   "metadata": {
    "scrolled": true
   },
   "outputs": [],
   "source": [
    "# 中身の確認\n",
    "df_counts"
   ]
  },
  {
   "cell_type": "code",
   "execution_count": null,
   "id": "perfect-strength",
   "metadata": {
    "scrolled": true
   },
   "outputs": [],
   "source": [
    "# 行数\n",
    "nrow(df_counts)\n",
    "\n",
    "# 列数\n",
    "ncol(df_counts)"
   ]
  },
  {
   "cell_type": "markdown",
   "id": "surface-america",
   "metadata": {},
   "source": [
    "## B05: データを Seurat の形に変換する"
   ]
  },
  {
   "cell_type": "code",
   "execution_count": null,
   "id": "widespread-current",
   "metadata": {},
   "outputs": [],
   "source": [
    "# データフレームを行列に変換する\n",
    "df_counts %>% \n",
    "select(-GENE) %>% \n",
    "as.matrix() ->\n",
    "mat_counts\n",
    "\n",
    "# データフレーム df_counts の GENE という列の内容を行列 mat_counts の行の名前に利用する\n",
    "rownames(mat_counts) <- df_counts$GENE"
   ]
  },
  {
   "cell_type": "code",
   "execution_count": null,
   "id": "average-average",
   "metadata": {},
   "outputs": [],
   "source": [
    "# 作った行列の構造を確認\n",
    "str(mat_counts)"
   ]
  },
  {
   "cell_type": "code",
   "execution_count": null,
   "id": "narrow-happening",
   "metadata": {
    "scrolled": true
   },
   "outputs": [],
   "source": [
    "# Seurat オブジェクトに変換する\n",
    "planarian <-  CreateSeuratObject(counts = mat_counts, project = \"planarian_2k\")"
   ]
  },
  {
   "cell_type": "code",
   "execution_count": null,
   "id": "indian-tours",
   "metadata": {},
   "outputs": [],
   "source": [
    "# 作った Seurat オブジェクト (planarian) を確認する\n",
    "planarian"
   ]
  },
  {
   "cell_type": "markdown",
   "id": "pleasant-shipping",
   "metadata": {},
   "source": [
    "## B06: 品質の低い細胞をフィルターする"
   ]
  },
  {
   "cell_type": "code",
   "execution_count": null,
   "id": "faced-drain",
   "metadata": {},
   "outputs": [],
   "source": [
    "VlnPlot(planarian, features = c(\"nFeature_RNA\", \"nCount_RNA\"), ncol = 2)"
   ]
  },
  {
   "cell_type": "code",
   "execution_count": null,
   "id": "unusual-pizza",
   "metadata": {},
   "outputs": [],
   "source": [
    "FeatureScatter(planarian, feature1 = \"nCount_RNA\", feature2 = \"nFeature_RNA\")"
   ]
  },
  {
   "cell_type": "code",
   "execution_count": null,
   "id": "faced-calendar",
   "metadata": {},
   "outputs": [],
   "source": [
    "planarian <- subset(planarian, subset = nFeature_RNA >= 200 & nCount_RNA >= 500)"
   ]
  },
  {
   "cell_type": "code",
   "execution_count": null,
   "id": "running-burke",
   "metadata": {},
   "outputs": [],
   "source": [
    "planarian"
   ]
  },
  {
   "cell_type": "code",
   "execution_count": null,
   "id": "finnish-turning",
   "metadata": {},
   "outputs": [],
   "source": [
    "FeatureScatter(planarian, feature1 = \"nCount_RNA\", feature2 = \"nFeature_RNA\")"
   ]
  },
  {
   "cell_type": "markdown",
   "id": "excessive-penalty",
   "metadata": {},
   "source": [
    "## B07: 発現量データを正規化する"
   ]
  },
  {
   "cell_type": "code",
   "execution_count": null,
   "id": "floral-birth",
   "metadata": {},
   "outputs": [],
   "source": [
    "planarian <- NormalizeData(planarian, normalization.method = \"LogNormalize\", scale.factor = 10000)"
   ]
  },
  {
   "cell_type": "markdown",
   "id": "associate-petroleum",
   "metadata": {},
   "source": [
    "## B08: 高変動遺伝子（highly variabe genes) を抽出する"
   ]
  },
  {
   "cell_type": "code",
   "execution_count": null,
   "id": "divine-mills",
   "metadata": {
    "scrolled": true
   },
   "outputs": [],
   "source": [
    "planarian <- FindVariableFeatures(planarian, selection.method = \"vst\", nfeatures = 2000)"
   ]
  },
  {
   "cell_type": "code",
   "execution_count": null,
   "id": "adequate-triangle",
   "metadata": {},
   "outputs": [],
   "source": [
    "top10 <- head(VariableFeatures(planarian), 10)"
   ]
  },
  {
   "cell_type": "code",
   "execution_count": null,
   "id": "australian-entrepreneur",
   "metadata": {},
   "outputs": [],
   "source": [
    "plot1 <- VariableFeaturePlot(planarian)\n",
    "plot1\n",
    "LabelPoints(plot = plot1, points = top10, repel = TRUE)"
   ]
  },
  {
   "cell_type": "markdown",
   "id": "helpful-corps",
   "metadata": {},
   "source": [
    "## B09: データをスケーリングする\n",
    "\n"
   ]
  },
  {
   "cell_type": "code",
   "execution_count": null,
   "id": "internal-blond",
   "metadata": {},
   "outputs": [],
   "source": [
    "# 少し時間がかかります\n",
    "all.genes <- rownames(planarian)\n",
    "planarian <- ScaleData(planarian, features = all.genes)"
   ]
  },
  {
   "cell_type": "markdown",
   "id": "temporal-pressing",
   "metadata": {},
   "source": [
    "## B10: PCA（主成分分析）を用いて次元削減を行う"
   ]
  },
  {
   "cell_type": "code",
   "execution_count": null,
   "id": "direct-greece",
   "metadata": {
    "scrolled": true
   },
   "outputs": [],
   "source": [
    "planarian <- RunPCA(planarian, features = VariableFeatures(object = planarian))"
   ]
  },
  {
   "cell_type": "code",
   "execution_count": null,
   "id": "caring-transcript",
   "metadata": {},
   "outputs": [],
   "source": [
    "print(planarian[[\"pca\"]], dims = 1:5, nfeatures = 5)"
   ]
  },
  {
   "cell_type": "code",
   "execution_count": null,
   "id": "aggregate-landscape",
   "metadata": {},
   "outputs": [],
   "source": [
    "VizDimLoadings(planarian, dims = 1:2, reduction = \"pca\")"
   ]
  },
  {
   "cell_type": "code",
   "execution_count": null,
   "id": "eastern-march",
   "metadata": {},
   "outputs": [],
   "source": [
    "DimPlot(planarian, reduction = \"pca\")"
   ]
  },
  {
   "cell_type": "code",
   "execution_count": null,
   "id": "assured-borough",
   "metadata": {},
   "outputs": [],
   "source": [
    "DimHeatmap(planarian, dims = 1:9, cells = 500, balanced = TRUE)\n"
   ]
  },
  {
   "cell_type": "markdown",
   "id": "premium-object",
   "metadata": {},
   "source": [
    "## B11: データの有効な次元数を調べる\n"
   ]
  },
  {
   "cell_type": "code",
   "execution_count": null,
   "id": "reduced-cosmetic",
   "metadata": {},
   "outputs": [],
   "source": [
    "# 少し時間がかかります\n",
    "planarian <- JackStraw(planarian, num.replicate = 100)\n",
    "planarian <- ScoreJackStraw(planarian, dims = 1:20)"
   ]
  },
  {
   "cell_type": "code",
   "execution_count": null,
   "id": "classical-rachel",
   "metadata": {},
   "outputs": [],
   "source": [
    "JackStrawPlot(planarian, dims = 1:15)"
   ]
  },
  {
   "cell_type": "code",
   "execution_count": null,
   "id": "southern-composite",
   "metadata": {},
   "outputs": [],
   "source": [
    "ElbowPlot(planarian)"
   ]
  },
  {
   "cell_type": "markdown",
   "id": "considered-province",
   "metadata": {},
   "source": [
    "## B12: 細胞をクラスタリングする"
   ]
  },
  {
   "cell_type": "code",
   "execution_count": null,
   "id": "human-pulse",
   "metadata": {},
   "outputs": [],
   "source": [
    "planarian <- FindNeighbors(planarian, dims = 1:10)\n",
    "planarian <- FindClusters(planarian, resolution = 0.5)"
   ]
  },
  {
   "cell_type": "code",
   "execution_count": null,
   "id": "recreational-congo",
   "metadata": {},
   "outputs": [],
   "source": [
    "head(Idents(planarian), 10)\n",
    "\n",
    "head(planarian$seurat_clusters, 10)"
   ]
  },
  {
   "cell_type": "code",
   "execution_count": null,
   "id": "unusual-saturday",
   "metadata": {},
   "outputs": [],
   "source": [
    "as_tibble(Idents(planarian), rownames = \"cell_barcode\") %>% \n",
    "    head"
   ]
  },
  {
   "cell_type": "code",
   "execution_count": null,
   "id": "equal-novel",
   "metadata": {},
   "outputs": [],
   "source": [
    "as_tibble(Idents(planarian), rownames = \"cell_barcode\") %>% \n",
    "    group_by(value) %>%\n",
    "    summarise(n_cell = n())"
   ]
  },
  {
   "cell_type": "markdown",
   "id": "southwest-finder",
   "metadata": {},
   "source": [
    "## B13: PCAの結果にさらにUMAPをかけて２次元空間に射影する"
   ]
  },
  {
   "cell_type": "code",
   "execution_count": null,
   "id": "valuable-variety",
   "metadata": {},
   "outputs": [],
   "source": [
    "planarian <- RunUMAP(planarian, dims = 1:10)\n"
   ]
  },
  {
   "cell_type": "code",
   "execution_count": null,
   "id": "breeding-effect",
   "metadata": {
    "scrolled": true
   },
   "outputs": [],
   "source": [
    "DimPlot(planarian, reduction = \"umap\")\n"
   ]
  },
  {
   "cell_type": "markdown",
   "id": "adolescent-grace",
   "metadata": {},
   "source": [
    "## B14: 各クラスターに特徴的な遺伝子群を探す"
   ]
  },
  {
   "cell_type": "code",
   "execution_count": null,
   "id": "about-praise",
   "metadata": {
    "scrolled": true
   },
   "outputs": [],
   "source": [
    "# find all markers of cluster 1\n",
    "cluster1_markers <- FindMarkers(planarian, ident.1 = 2, min.pct = 0.25)\n",
    "head(cluster1_markers, n = 5)"
   ]
  },
  {
   "cell_type": "code",
   "execution_count": null,
   "id": "steady-cable",
   "metadata": {},
   "outputs": [],
   "source": [
    "# find all markers distinguishing cluster 5 from clusters 0 and 3\n",
    "cluster5_markers <- FindMarkers(planarian, ident.1 = 5, ident.2 = c(0, 3), min.pct = 0.25)\n",
    "head(cluster5_markers, n = 5)"
   ]
  },
  {
   "cell_type": "code",
   "execution_count": null,
   "id": "warming-genetics",
   "metadata": {},
   "outputs": [],
   "source": [
    "# find markers for every cluster compared to all remaining cells, report only the positive ones\n",
    "planarian_markers <- FindAllMarkers(planarian, only.pos = TRUE, min.pct = 0.25, logfc.threshold = 0.25)"
   ]
  },
  {
   "cell_type": "code",
   "execution_count": null,
   "id": "accessible-chart",
   "metadata": {},
   "outputs": [],
   "source": [
    "planarian_markers %>% \n",
    "    group_by(cluster) %>% \n",
    "    top_n(n = 2, wt = avg_log2FC)"
   ]
  },
  {
   "cell_type": "markdown",
   "id": "harmful-brunswick",
   "metadata": {},
   "source": [
    "## B15: クラスターごとに遺伝子発現量をプロットする"
   ]
  },
  {
   "cell_type": "code",
   "execution_count": null,
   "id": "mysterious-stock",
   "metadata": {},
   "outputs": [],
   "source": [
    "VlnPlot(planarian, features = c(\"Smed-prog-2a-SmedASXL-014068-BPKG56961\", \"SmedASXL-008653\"))\n"
   ]
  },
  {
   "cell_type": "code",
   "execution_count": null,
   "id": "sealed-technology",
   "metadata": {},
   "outputs": [],
   "source": [
    "top10 <- planarian_markers %>% \n",
    "                    group_by(cluster) %>% \n",
    "                    top_n(n = 5, wt = avg_log2FC)\n",
    "\n",
    "options(repr.plot.width=15, repr.plot.height=10)\n",
    "\n",
    "DoHeatmap(planarian, features = top10$gene) + NoLegend()"
   ]
  },
  {
   "cell_type": "markdown",
   "id": "exterior-george",
   "metadata": {},
   "source": [
    "## B16: 遺伝子発現量をUMAPの図に重ねる"
   ]
  },
  {
   "cell_type": "code",
   "execution_count": null,
   "id": "mature-heavy",
   "metadata": {},
   "outputs": [],
   "source": [
    "planarian_markers %>% \n",
    "    group_by(cluster) %>% \n",
    "    top_n(n = 1, wt = avg_log2FC) %>%\n",
    "    .$gene -> each_cluster_features\n",
    "\n",
    "each_cluster_features"
   ]
  },
  {
   "cell_type": "code",
   "execution_count": null,
   "id": "substantial-december",
   "metadata": {},
   "outputs": [],
   "source": [
    "options(repr.plot.width=4, repr.plot.height=3)\n",
    "\n",
    "DimPlot(planarian, reduction = \"umap\")"
   ]
  },
  {
   "cell_type": "code",
   "execution_count": null,
   "id": "documentary-capacity",
   "metadata": {
    "scrolled": false
   },
   "outputs": [],
   "source": [
    "options(repr.plot.width=15, repr.plot.height=10)\n",
    "\n",
    "FeaturePlot(planarian, features = each_cluster_features)"
   ]
  },
  {
   "cell_type": "markdown",
   "id": "checked-complaint",
   "metadata": {},
   "source": [
    "# 発展\n",
    "\n"
   ]
  },
  {
   "cell_type": "markdown",
   "id": "straight-fitness",
   "metadata": {},
   "source": [
    "以下のコマンドをターミナルで打つと、ヒトとプラナリアのオーソログ関係の表（一部）がダウンロードできる\n",
    "\n",
    "```\n",
    "$ cd data\n",
    "$ wget https://raw.githubusercontent.com/bioinfo-tsukuba/20201226-EB62104-bioinformatics-course/master/human_ortholog_subset.tsv\n",
    "```\n",
    "\n",
    "各クラスターに特徴的な遺伝子から、各クラスターの細胞の機能を類推せよ\n",
    "\n",
    "joinを使うとよい"
   ]
  },
  {
   "cell_type": "markdown",
   "id": "capital-excess",
   "metadata": {},
   "source": [
    "## B21: ヒトとプラナリアのオーソログ関係の表を読み込む"
   ]
  },
  {
   "cell_type": "code",
   "execution_count": null,
   "id": "dying-camping",
   "metadata": {
    "scrolled": true
   },
   "outputs": [],
   "source": [
    "human_ortholog = read_tsv(\"data/human_ortholog_subset.tsv\", col_names=TRUE)"
   ]
  },
  {
   "cell_type": "code",
   "execution_count": null,
   "id": "stopped-differential",
   "metadata": {},
   "outputs": [],
   "source": [
    "str(human_ortholog)"
   ]
  },
  {
   "cell_type": "code",
   "execution_count": null,
   "id": "considerable-lightweight",
   "metadata": {},
   "outputs": [],
   "source": [
    "human_ortholog %>%\n",
    "    mutate(Smed_Code2 = gsub(\"_\", \"-\", Smed_Code)) -> human_ortholog"
   ]
  },
  {
   "cell_type": "markdown",
   "id": "seasonal-morgan",
   "metadata": {},
   "source": [
    "## B22: 各クラスターに特徴的な遺伝子群のヒトオーソログを抽出する"
   ]
  },
  {
   "cell_type": "code",
   "execution_count": null,
   "id": "loving-trinidad",
   "metadata": {
    "scrolled": true
   },
   "outputs": [],
   "source": [
    "planarian_markers %>% head"
   ]
  },
  {
   "cell_type": "code",
   "execution_count": null,
   "id": "fitted-ceiling",
   "metadata": {},
   "outputs": [],
   "source": [
    "planarian_markers %>%\n",
    "    filter(cluster == 0) %>%\n",
    "    inner_join(human_ortholog, by=c(\"gene\" = \"Smed_Code2\"))"
   ]
  }
 ],
 "metadata": {
  "kernelspec": {
   "display_name": "R",
   "language": "R",
   "name": "ir"
  },
  "language_info": {
   "codemirror_mode": "r",
   "file_extension": ".r",
   "mimetype": "text/x-r-source",
   "name": "R",
   "pygments_lexer": "r",
   "version": "4.0.3"
  }
 },
 "nbformat": 4,
 "nbformat_minor": 5
}
